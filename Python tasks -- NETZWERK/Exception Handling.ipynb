{
 "cells": [
  {
   "cell_type": "markdown",
   "id": "00659528",
   "metadata": {},
   "source": [
    "# Exception Handling in Python"
   ]
  },
  {
   "cell_type": "markdown",
   "id": "032b4ed5",
   "metadata": {},
   "source": [
    "--> Error is a problem that occurs in every programming language which stops the execution of the program or causes abnormal changes in the flow of program(control)\n",
    "\n",
    "--> Hence, due to this the \"desired output\" will not be computed"
   ]
  },
  {
   "cell_type": "markdown",
   "id": "0ceccbc7",
   "metadata": {},
   "source": [
    "Errors are of 2 types:-\n",
    "\n",
    "     1. Syntax Error\n",
    "     2. Exceptions"
   ]
  },
  {
   "cell_type": "markdown",
   "id": "2b1d17c5",
   "metadata": {},
   "source": [
    "1. Syntax error:-\n",
    "\n",
    "--> It is caused due to usage of wrong syntax in the code.\n",
    "\n",
    "--> It is basically raised at interpreter-time(i.e., when source code is getting converted into object code).\n",
    "\n",
    "--> They cannnot be handled.\n",
    "\n",
    "--> They stop the execution of the program."
   ]
  },
  {
   "cell_type": "code",
   "execution_count": 1,
   "id": "05dae771",
   "metadata": {},
   "outputs": [
    {
     "ename": "SyntaxError",
     "evalue": "Missing parentheses in call to 'print'. Did you mean print(a)? (Temp/ipykernel_14652/2204325791.py, line 3)",
     "output_type": "error",
     "traceback": [
      "\u001b[1;36m  File \u001b[1;32m\"C:\\Users\\Dell\\AppData\\Local\\Temp/ipykernel_14652/2204325791.py\"\u001b[1;36m, line \u001b[1;32m3\u001b[0m\n\u001b[1;33m    print a\u001b[0m\n\u001b[1;37m          ^\u001b[0m\n\u001b[1;31mSyntaxError\u001b[0m\u001b[1;31m:\u001b[0m Missing parentheses in call to 'print'. Did you mean print(a)?\n"
     ]
    }
   ],
   "source": [
    "# example\n",
    "a=10\n",
    "print a"
   ]
  },
  {
   "cell_type": "markdown",
   "id": "2245aa9d",
   "metadata": {},
   "source": [
    "2. Exception :-\n",
    "\n",
    "--> Exceptions are raised whenever the code is syntactically correct but if there is a problem within the logic or code itself\n",
    "\n",
    "--> They are raised during the run-time (i.e., when the object code is coverted into executable program and loaded into the \n",
    "main memory)\n",
    "\n",
    "--> Exceptions in Python can be handled by using \"try\" and \"catch\" blocks\n",
    "\n",
    "--> They affect the normal flow of the program which results in abnormal behaviour"
   ]
  },
  {
   "cell_type": "code",
   "execution_count": 2,
   "id": "c2141334",
   "metadata": {},
   "outputs": [
    {
     "name": "stdout",
     "output_type": "stream",
     "text": [
      "hello world\n"
     ]
    },
    {
     "ename": "NameError",
     "evalue": "name 'name' is not defined",
     "output_type": "error",
     "traceback": [
      "\u001b[1;31m---------------------------------------------------------------------------\u001b[0m",
      "\u001b[1;31mNameError\u001b[0m                                 Traceback (most recent call last)",
      "\u001b[1;32m~\\AppData\\Local\\Temp/ipykernel_14652/3980887339.py\u001b[0m in \u001b[0;36m<module>\u001b[1;34m\u001b[0m\n\u001b[0;32m      1\u001b[0m \u001b[1;31m# example\u001b[0m\u001b[1;33m\u001b[0m\u001b[1;33m\u001b[0m\u001b[0m\n\u001b[0;32m      2\u001b[0m \u001b[0mprint\u001b[0m\u001b[1;33m(\u001b[0m\u001b[1;34m\"hello world\"\u001b[0m\u001b[1;33m)\u001b[0m\u001b[1;33m\u001b[0m\u001b[1;33m\u001b[0m\u001b[0m\n\u001b[1;32m----> 3\u001b[1;33m \u001b[0mprint\u001b[0m\u001b[1;33m(\u001b[0m\u001b[0mname\u001b[0m\u001b[1;33m)\u001b[0m\u001b[1;33m\u001b[0m\u001b[1;33m\u001b[0m\u001b[0m\n\u001b[0m\u001b[0;32m      4\u001b[0m \u001b[0mprint\u001b[0m\u001b[1;33m(\u001b[0m\u001b[1;34m'Welcome to exception handling'\u001b[0m\u001b[1;33m)\u001b[0m\u001b[1;33m\u001b[0m\u001b[1;33m\u001b[0m\u001b[0m\n\u001b[0;32m      5\u001b[0m \u001b[0mprint\u001b[0m\u001b[1;33m(\u001b[0m\u001b[1;34m'Thank you'\u001b[0m\u001b[1;33m)\u001b[0m\u001b[1;33m\u001b[0m\u001b[1;33m\u001b[0m\u001b[0m\n",
      "\u001b[1;31mNameError\u001b[0m: name 'name' is not defined"
     ]
    }
   ],
   "source": [
    "# example\n",
    "print(\"hello world\")\n",
    "print(name)\n",
    "print('Welcome to exception handling')\n",
    "print('Thank you')"
   ]
  },
  {
   "cell_type": "markdown",
   "id": "bd865798",
   "metadata": {},
   "source": [
    "# Handling exceptions"
   ]
  },
  {
   "cell_type": "markdown",
   "id": "730da33c",
   "metadata": {},
   "source": [
    "# try:"
   ]
  },
  {
   "cell_type": "markdown",
   "id": "08fccaf5",
   "metadata": {},
   "source": [
    "--> try block contains code that may or maynot raise an exception\n",
    "\n",
    "--> If an exception is raised, then it is thrown to handle it\n",
    "\n",
    "--> else, the code will be executed and produces the output"
   ]
  },
  {
   "cell_type": "markdown",
   "id": "71b498ca",
   "metadata": {},
   "source": [
    "# except :"
   ]
  },
  {
   "cell_type": "markdown",
   "id": "c5396b00",
   "metadata": {},
   "source": [
    "--> It contains codes to handle the exceptions thrown by the try block\n",
    "\n",
    "--> It prevents the abnormal flow of the program"
   ]
  },
  {
   "cell_type": "raw",
   "id": "dd977487",
   "metadata": {},
   "source": [
    "syntax ---->\n",
    "\n",
    "try:\n",
    "    statement1\n",
    "    statement2\n",
    "    .......\n",
    "except:\n",
    "    statement1\n",
    "    statement2\n",
    "    .......\n"
   ]
  },
  {
   "cell_type": "code",
   "execution_count": 7,
   "id": "948fe5ad",
   "metadata": {},
   "outputs": [
    {
     "name": "stdout",
     "output_type": "stream",
     "text": [
      "Index out of range\n"
     ]
    }
   ],
   "source": [
    "# example \n",
    "list1 = [1,2,3,5]\n",
    "try:\n",
    "    print(list1[100])\n",
    "except:\n",
    "    print(\"Index out of range\")"
   ]
  },
  {
   "cell_type": "markdown",
   "id": "5a8de6bd",
   "metadata": {},
   "source": [
    "# finally"
   ]
  },
  {
   "cell_type": "markdown",
   "id": "04a6489e",
   "metadata": {},
   "source": [
    "--> This block sholud always be below try and except block\n",
    "\n",
    "--> It contains statements that will be compulsarily executed irresepective of an exception"
   ]
  },
  {
   "cell_type": "code",
   "execution_count": 12,
   "id": "0237272a",
   "metadata": {},
   "outputs": [
    {
     "data": {
      "text/plain": [
       "'\\nsyntax ---->\\n\\ntry:\\n    statement1\\n    statement2\\n    .......\\nexcept:\\n    statement1\\n    statement2\\n    .......\\nfinally:\\n    statement1\\n    statement2\\n    .......\\n'"
      ]
     },
     "execution_count": 12,
     "metadata": {},
     "output_type": "execute_result"
    }
   ],
   "source": [
    "\"\"\"\n",
    "syntax ---->\n",
    "\n",
    "try:\n",
    "    statement1\n",
    "    statement2\n",
    "    .......\n",
    "except:\n",
    "    statement1\n",
    "    statement2\n",
    "    .......\n",
    "finally:\n",
    "    statement1\n",
    "    statement2\n",
    "    .......\n",
    "\"\"\""
   ]
  },
  {
   "cell_type": "code",
   "execution_count": 8,
   "id": "b6cc1869",
   "metadata": {},
   "outputs": [
    {
     "name": "stdout",
     "output_type": "stream",
     "text": [
      "Index out of range\n",
      "End of program\n"
     ]
    }
   ],
   "source": [
    "list1 = [1,2,3,5]\n",
    "try:\n",
    "    print(list1[100])\n",
    "except:\n",
    "    print(\"Index out of range\")\n",
    "finally:\n",
    "    print(\"End of program\")"
   ]
  },
  {
   "cell_type": "code",
   "execution_count": 9,
   "id": "7ca4d044",
   "metadata": {},
   "outputs": [
    {
     "name": "stdout",
     "output_type": "stream",
     "text": [
      "2\n",
      "End of program\n"
     ]
    }
   ],
   "source": [
    "list1 = [1,2,3,5]\n",
    "try:\n",
    "    print(list1[1])\n",
    "except:\n",
    "    print(\"Index out of range\")\n",
    "finally:\n",
    "    print(\"End of program\")"
   ]
  },
  {
   "cell_type": "markdown",
   "id": "0b0e48d3",
   "metadata": {},
   "source": [
    "# else:"
   ]
  },
  {
   "cell_type": "markdown",
   "id": "46dc9134",
   "metadata": {},
   "source": [
    "--> This block executes only when the except block doesn't get executed\n",
    "\n",
    "--> i.e., when there is no exception raised in try block\n",
    "\n",
    "--> or , when the raised excpetion couldn't be handled by the except block\n",
    "\n",
    "--> It should always be placed after except and before finally block"
   ]
  },
  {
   "cell_type": "code",
   "execution_count": 13,
   "id": "c1c712de",
   "metadata": {},
   "outputs": [
    {
     "name": "stdout",
     "output_type": "stream",
     "text": [
      "2\n",
      "No exception raised!!\n",
      "End of program\n"
     ]
    }
   ],
   "source": [
    "list1 = [1,2,3,5]\n",
    "try:\n",
    "    print(list1[1])\n",
    "except:\n",
    "    print(\"Index out of range\")\n",
    "else:\n",
    "    print(\"No exception raised!!\")\n",
    "finally:\n",
    "    print(\"End of program\")"
   ]
  },
  {
   "cell_type": "markdown",
   "id": "c941b1e3",
   "metadata": {},
   "source": [
    "# Excepting multiple errors with specific exception name for each"
   ]
  },
  {
   "cell_type": "markdown",
   "id": "2a86c920",
   "metadata": {},
   "source": [
    "# ex:1"
   ]
  },
  {
   "cell_type": "code",
   "execution_count": 18,
   "id": "0552df48",
   "metadata": {},
   "outputs": [
    {
     "name": "stdout",
     "output_type": "stream",
     "text": [
      "Enter n1:45\n",
      "Enter n2:uio\n",
      "Enter numbers only\n",
      "THE END!!\n"
     ]
    }
   ],
   "source": [
    "def add():\n",
    "    n1 = int(input(\"Enter n1:\"))\n",
    "    n2 = int(input(\"Enter n2:\"))\n",
    "    print(n1+n2)\n",
    "try:\n",
    "    add()\n",
    "except IndexError:\n",
    "    print(\"Index out of range\")\n",
    "except ValueError:\n",
    "    print(\"Enter numbers only\")\n",
    "except ZeroDivisionError:\n",
    "    print(\"Enter number greater than zero as denominator\")\n",
    "else:\n",
    "    print(\"Program executed successfully with 0 exceptions\")\n",
    "finally:\n",
    "    print(\"THE END!!\")"
   ]
  },
  {
   "cell_type": "markdown",
   "id": "d1787776",
   "metadata": {},
   "source": [
    "# ex:2"
   ]
  },
  {
   "cell_type": "code",
   "execution_count": 19,
   "id": "f9479709",
   "metadata": {},
   "outputs": [
    {
     "name": "stdout",
     "output_type": "stream",
     "text": [
      "start of the program\n",
      "Enter the numerator : 23\n",
      "Enter the denominator : 0\n",
      "Numerator = 23 , Denominator = 0\n",
      "Enter a non-zero denominator\n",
      "End of program\n"
     ]
    }
   ],
   "source": [
    "print(\"start of the program\")\n",
    "\n",
    "try:\n",
    "    num1 = int(input(\"Enter the numerator : \"))\n",
    "    num2 = int(input(\"Enter the denominator : \"))\n",
    "\n",
    "    print('Numerator = {} , Denominator = {}'.format(num1,num2))\n",
    "\n",
    "    result = num1/num2\n",
    "    print(\"result = \",result)\n",
    "    \n",
    "except ZeroDivisionError:\n",
    "    print(\"Enter a non-zero denominator\")\n",
    "    \n",
    "except ValueError:\n",
    "    print(\"Please enter the numbers only\")\n",
    "    \n",
    "except:\n",
    "    print(\"Something went wrong\")\n",
    "    \n",
    "finally:\n",
    "    print(\"End of program\")"
   ]
  },
  {
   "cell_type": "markdown",
   "id": "4a29972a",
   "metadata": {},
   "source": [
    "# Custom Error"
   ]
  },
  {
   "cell_type": "raw",
   "id": "9cd7791a",
   "metadata": {},
   "source": [
    "--> It helps the user to raise his own error or custom error and then handle it\n",
    "\n",
    "--> It is done using \"raise\" keyword\n",
    "\n",
    "--> The raise statement allows the programmer to force a specific exception to occur. \n",
    "\n",
    "--> The sole argument in raise indicates the exception to be raised. "
   ]
  },
  {
   "cell_type": "code",
   "execution_count": 31,
   "id": "ecdba101",
   "metadata": {},
   "outputs": [
    {
     "name": "stdout",
     "output_type": "stream",
     "text": [
      "The Custom Exception: 14\n"
     ]
    }
   ],
   "source": [
    "#example\n",
    "# Inherting MyExcpetion from parent class = Exception\n",
    "class MyException(Exception):\n",
    "    # constructor or initializer\n",
    "    def __init__(self,value):\n",
    "        self.value = value\n",
    "        \n",
    "    # __str__ is used to print() which has statements to handle raised exception\n",
    "    def __str__(self):\n",
    "        print(\"The Custom Exception:\",repr(self.value))\n",
    "    \n",
    "try:\n",
    "    raise MyException(2+3*4)\n",
    "\n",
    "except MyException as obj:\n",
    "    #print(\"Custom exception:\",obj.value)\n",
    "    obj.__str__()\n",
    "    "
   ]
  },
  {
   "cell_type": "code",
   "execution_count": null,
   "id": "a0184d6e",
   "metadata": {},
   "outputs": [],
   "source": []
  }
 ],
 "metadata": {
  "kernelspec": {
   "display_name": "Python 3 (ipykernel)",
   "language": "python",
   "name": "python3"
  },
  "language_info": {
   "codemirror_mode": {
    "name": "ipython",
    "version": 3
   },
   "file_extension": ".py",
   "mimetype": "text/x-python",
   "name": "python",
   "nbconvert_exporter": "python",
   "pygments_lexer": "ipython3",
   "version": "3.9.7"
  }
 },
 "nbformat": 4,
 "nbformat_minor": 5
}
