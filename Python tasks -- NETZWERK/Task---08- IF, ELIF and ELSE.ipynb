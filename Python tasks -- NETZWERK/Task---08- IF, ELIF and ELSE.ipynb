{
 "cells": [
  {
   "cell_type": "code",
   "execution_count": 3,
   "id": "10a68d14",
   "metadata": {},
   "outputs": [
    {
     "name": "stdout",
     "output_type": "stream",
     "text": [
      "Enter the first number:10\n",
      "Enter the second number:20\n"
     ]
    }
   ],
   "source": [
    "\"\"\"\"Task9\n",
    "->Ask 2 numbers from users and store it in num1 and num2\n",
    "->Ask user to press 1 for addition,2 for subtraction,3 for multiplication and 4 for division\n",
    "->based on number given by user do the math operation\"\"\"\n",
    "num1 = int(input(\"Enter the first number:\"))\n",
    "num2 = int(input(\"Enter the second number:\"))"
   ]
  },
  {
   "cell_type": "code",
   "execution_count": 7,
   "id": "8c5036eb",
   "metadata": {},
   "outputs": [
    {
     "name": "stdout",
     "output_type": "stream",
     "text": [
      "Enter--> 1. Addition 2. Subtraction 3. Multiplication 4. Division 5.exit\n"
     ]
    }
   ],
   "source": [
    "print(\"Enter--> 1. Addition 2. Subtraction 3. Multiplication 4. Division 5.exit\")"
   ]
  },
  {
   "cell_type": "code",
   "execution_count": 10,
   "id": "5bad7957",
   "metadata": {},
   "outputs": [
    {
     "name": "stdout",
     "output_type": "stream",
     "text": [
      "Enter the choice:1\n",
      "30\n",
      "Enter the choice:3\n",
      "200\n",
      "Enter the choice:4\n",
      "0.5\n",
      "Enter the choice:5\n",
      "Invalid choice\n"
     ]
    }
   ],
   "source": [
    "while(True):\n",
    "    choice = int(input(\"Enter the choice:\"))\n",
    "    if(choice==1):\n",
    "        sum1 = num1 + num2\n",
    "        print(str(sum1))\n",
    "    elif(choice==2):\n",
    "        sub1 = num1 - num2\n",
    "        print(str(sub1))\n",
    "    elif(choice==3):\n",
    "        product = num1*num2\n",
    "        print(str(product))\n",
    "    elif(choice == 4):\n",
    "        quotient = num1 / num2\n",
    "        print(str(quotient))\n",
    "    else:\n",
    "        print(\"Invalid choice\")\n",
    "        break\n",
    "            \n",
    "    "
   ]
  },
  {
   "cell_type": "code",
   "execution_count": null,
   "id": "33d6ac5d",
   "metadata": {},
   "outputs": [],
   "source": []
  }
 ],
 "metadata": {
  "kernelspec": {
   "display_name": "Python 3",
   "language": "python",
   "name": "python3"
  },
  "language_info": {
   "codemirror_mode": {
    "name": "ipython",
    "version": 3
   },
   "file_extension": ".py",
   "mimetype": "text/x-python",
   "name": "python",
   "nbconvert_exporter": "python",
   "pygments_lexer": "ipython3",
   "version": "3.8.8"
  }
 },
 "nbformat": 4,
 "nbformat_minor": 5
}
