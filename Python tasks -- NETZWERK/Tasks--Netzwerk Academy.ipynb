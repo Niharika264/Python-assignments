{
 "cells": [
  {
   "cell_type": "code",
   "execution_count": 1,
   "id": "b46b7a51",
   "metadata": {},
   "outputs": [],
   "source": [
    "#\n",
    "str1 = \"Welcome to python\"\n",
    "item = \"to\"\n",
    "    "
   ]
  },
  {
   "cell_type": "code",
   "execution_count": 2,
   "id": "9b418d93",
   "metadata": {},
   "outputs": [
    {
     "name": "stdout",
     "output_type": "stream",
     "text": [
      "to is present\n"
     ]
    }
   ],
   "source": [
    "if(item in str1):\n",
    "    print(\"{} is present\".format(item))\n",
    "else:\n",
    "    print(\"{} is not present\".format(item))"
   ]
  },
  {
   "cell_type": "code",
   "execution_count": null,
   "id": "cf5b7413",
   "metadata": {},
   "outputs": [],
   "source": []
  }
 ],
 "metadata": {
  "kernelspec": {
   "display_name": "Python 3",
   "language": "python",
   "name": "python3"
  },
  "language_info": {
   "codemirror_mode": {
    "name": "ipython",
    "version": 3
   },
   "file_extension": ".py",
   "mimetype": "text/x-python",
   "name": "python",
   "nbconvert_exporter": "python",
   "pygments_lexer": "ipython3",
   "version": "3.8.8"
  }
 },
 "nbformat": 4,
 "nbformat_minor": 5
}
