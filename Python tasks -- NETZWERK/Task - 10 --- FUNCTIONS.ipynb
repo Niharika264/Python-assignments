{
 "cells": [
  {
   "cell_type": "code",
   "execution_count": 1,
   "id": "c8a6f05a",
   "metadata": {},
   "outputs": [],
   "source": [
    "'''''Task 11.1\n",
    "Explain Return keyword with example.'''\n",
    "''''' return :- It is a in-built function in python library\n",
    "                It returns value from the function\n",
    "                It is used stop/break the execution of the function\n",
    "                any statements after the return() will not be executed'''\n",
    "def my_age(birth_year):\n",
    "    current_age = 2021 - birth_year\n",
    "    return current_age"
   ]
  },
  {
   "cell_type": "code",
   "execution_count": 2,
   "id": "7c1832a1",
   "metadata": {},
   "outputs": [
    {
     "data": {
      "text/plain": [
       "20"
      ]
     },
     "execution_count": 2,
     "metadata": {},
     "output_type": "execute_result"
    }
   ],
   "source": [
    "returned_val = my_age(2001)\n",
    "returned_val"
   ]
  },
  {
   "cell_type": "code",
   "execution_count": 3,
   "id": "9508c93d",
   "metadata": {},
   "outputs": [
    {
     "name": "stdout",
     "output_type": "stream",
     "text": [
      "Enter the first number:10\n",
      "Enter the second number:20\n"
     ]
    }
   ],
   "source": [
    "'''''Task11.2\n",
    "Ask 2 numbers from users and store it in num1 and num2\n",
    "Ask user to press 1 for addition,2 for subtraction,3 for multiplication and 4 for division\n",
    "create 4 seperate functions for each operation (i.e. addition,subtraction,multiplication and division)\n",
    "based on number given by user,call that perticular function and print the output'''\n",
    "\n",
    "num1 = int(input(\"Enter the first number:\"))\n",
    "num2 = int(input(\"Enter the second number:\"))"
   ]
  },
  {
   "cell_type": "code",
   "execution_count": 4,
   "id": "b09299ef",
   "metadata": {},
   "outputs": [
    {
     "name": "stdout",
     "output_type": "stream",
     "text": [
      "press 1 for addition,2 for subtraction,3 for multiplication and 4 for division\n"
     ]
    }
   ],
   "source": [
    "print(\"press 1 for addition,2 for subtraction,3 for multiplication and 4 for division\")"
   ]
  },
  {
   "cell_type": "code",
   "execution_count": 5,
   "id": "1c1a66da",
   "metadata": {},
   "outputs": [],
   "source": [
    "def add(n1,n2):\n",
    "    return n1+n2\n",
    "\n",
    "def sub(n1,n2):\n",
    "    return n1-n2\n",
    "\n",
    "def mul(n1,n2):\n",
    "    return n1*n2\n",
    "\n",
    "def div(n1,n2):\n",
    "    return n1/n2"
   ]
  },
  {
   "cell_type": "code",
   "execution_count": 7,
   "id": "da53dff4",
   "metadata": {},
   "outputs": [
    {
     "name": "stdout",
     "output_type": "stream",
     "text": [
      "Enter the index of operation to be performed: 1\n",
      "sum = 30\n",
      "Enter the index of operation to be performed: 3\n",
      "product = 200\n",
      "Enter the index of operation to be performed: 4\n",
      "quotient = 0.5\n",
      "Enter the index of operation to be performed: 2\n",
      "difference = -10\n",
      "Enter the index of operation to be performed: 5\n",
      "Invalid choice\n"
     ]
    }
   ],
   "source": [
    "while(True):\n",
    "    \n",
    "    choice = int(input(\"Enter the index of operation to be performed: \"))\n",
    "    \n",
    "    if(choice==1):\n",
    "        print(\"sum = {}\".format(add(num1,num2)))\n",
    "        \n",
    "    elif(choice==2):\n",
    "        print(\"difference = {}\".format(sub(num1,num2)))\n",
    "        \n",
    "    elif(choice==3):\n",
    "        print(\"product = {}\".format(mul(num1,num2)))\n",
    "              \n",
    "    elif(choice==4):\n",
    "        print(\"quotient = {}\".format(div(num1,num2)))\n",
    "              \n",
    "    else:\n",
    "        print(\"Invalid choice\")\n",
    "        break\n",
    "        \n",
    "    \n",
    "    "
   ]
  },
  {
   "cell_type": "code",
   "execution_count": null,
   "id": "f20c2fe1",
   "metadata": {},
   "outputs": [],
   "source": []
  },
  {
   "cell_type": "code",
   "execution_count": null,
   "id": "8ce29de3",
   "metadata": {},
   "outputs": [],
   "source": []
  },
  {
   "cell_type": "code",
   "execution_count": null,
   "id": "6b5d665a",
   "metadata": {},
   "outputs": [],
   "source": []
  },
  {
   "cell_type": "code",
   "execution_count": null,
   "id": "e4b384ed",
   "metadata": {},
   "outputs": [],
   "source": []
  }
 ],
 "metadata": {
  "kernelspec": {
   "display_name": "Python 3",
   "language": "python",
   "name": "python3"
  },
  "language_info": {
   "codemirror_mode": {
    "name": "ipython",
    "version": 3
   },
   "file_extension": ".py",
   "mimetype": "text/x-python",
   "name": "python",
   "nbconvert_exporter": "python",
   "pygments_lexer": "ipython3",
   "version": "3.8.8"
  }
 },
 "nbformat": 4,
 "nbformat_minor": 5
}
