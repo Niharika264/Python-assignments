{
 "cells": [
  {
   "cell_type": "markdown",
   "id": "e569eae2",
   "metadata": {},
   "source": [
    "# Create table employee insert 6 records and do update salary for all the employees by 500"
   ]
  },
  {
   "cell_type": "code",
   "execution_count": null,
   "id": "cd98053e",
   "metadata": {},
   "outputs": [],
   "source": [
    "import pyodbc"
   ]
  },
  {
   "cell_type": "code",
   "execution_count": 70,
   "id": "7b382802",
   "metadata": {},
   "outputs": [],
   "source": [
    "#pyodbc.drivers()"
   ]
  },
  {
   "cell_type": "code",
   "execution_count": 71,
   "id": "c4fbbcfa",
   "metadata": {},
   "outputs": [],
   "source": [
    "connection = pyodbc.connect('Driver={SQL Server};'\n",
    "'Server=DESKTOP-L846VMO\\SQLEXPRESS;'\n",
    "'Database=myTable;'\n",
    "'username=niharika;'\n",
    "'password=niharika;'\n",
    "'Trusted_Connection=True;')\n",
    "\n",
    "cursor=connection.cursor()\n"
   ]
  },
  {
   "cell_type": "code",
   "execution_count": 37,
   "id": "f3542c05",
   "metadata": {},
   "outputs": [],
   "source": [
    "#Creating a table\n",
    "Table = \"create table Employee (id bigint NOT NULL, name varchar(10),salary bigint)\"\n",
    "cursor.execute(Table)\n",
    "cursor.commit()"
   ]
  },
  {
   "cell_type": "code",
   "execution_count": 38,
   "id": "4a47bef2",
   "metadata": {},
   "outputs": [],
   "source": [
    "#Inserting values into table\n",
    "query = \"INSERT INTO Employee(id,name,salary) VALUES('1','John','3000'),('2','Rob','4000'),('3','Adam','5000')\"\n",
    "cursor.execute(query)\n",
    "cursor.commit()"
   ]
  },
  {
   "cell_type": "code",
   "execution_count": 66,
   "id": "34a0d608",
   "metadata": {},
   "outputs": [],
   "source": [
    "query = \"INSERT INTO Employee(id,name,salary) VALUES('4','Elle','3000'),('5','Ryan','4000'),('6','Jo','5000')\"\n",
    "cursor.execute(query)\n",
    "cursor.commit()"
   ]
  },
  {
   "cell_type": "code",
   "execution_count": 67,
   "id": "46b9f4fc",
   "metadata": {},
   "outputs": [
    {
     "name": "stdout",
     "output_type": "stream",
     "text": [
      "(1, 'John', 2000)\n",
      "(2, 'Rob', 5000)\n",
      "(3, 'Adam', 6000)\n",
      "(4, 'Elle', 3000)\n",
      "(5, 'Ryan', 4000)\n",
      "(6, 'Jo', 5000)\n"
     ]
    }
   ],
   "source": [
    "result = cursor.execute(\"select * from Employee\")\n",
    "for i in result:\n",
    "    print(i)"
   ]
  },
  {
   "cell_type": "code",
   "execution_count": 68,
   "id": "bdf2405e",
   "metadata": {},
   "outputs": [
    {
     "name": "stdout",
     "output_type": "stream",
     "text": [
      "(1, 'John', 2500)\n",
      "(2, 'Rob', 5500)\n",
      "(3, 'Adam', 6500)\n",
      "(4, 'Elle', 3500)\n",
      "(5, 'Ryan', 4500)\n",
      "(6, 'Jo', 5500)\n"
     ]
    }
   ],
   "source": [
    "#Updating salary of each employee\n",
    "query = \"update Employee set salary=salary+500\"\n",
    "cursor.execute(query)\n",
    "result = cursor.execute(\"select * from Employee\")\n",
    "for i in result:\n",
    "    print(i)"
   ]
  },
  {
   "cell_type": "code",
   "execution_count": 72,
   "id": "9a39934a",
   "metadata": {},
   "outputs": [],
   "source": [
    "cursor.commit()"
   ]
  },
  {
   "cell_type": "code",
   "execution_count": 42,
   "id": "2afadc1f",
   "metadata": {},
   "outputs": [
    {
     "data": {
      "text/plain": [
       "<pyodbc.Cursor at 0x193dc721730>"
      ]
     },
     "execution_count": 42,
     "metadata": {},
     "output_type": "execute_result"
    }
   ],
   "source": [
    "\n",
    "updation = \"update Employee set salary = 500 where id = 1\"\n",
    "cursor.execute(updation)"
   ]
  },
  {
   "cell_type": "code",
   "execution_count": 59,
   "id": "c8b9239f",
   "metadata": {},
   "outputs": [
    {
     "name": "stdout",
     "output_type": "stream",
     "text": [
      "(1, 'John', 1500)\n",
      "(2, 'Rob', 4500)\n",
      "(3, 'Adam', 5500)\n"
     ]
    }
   ],
   "source": [
    "result = cursor.execute(\"select * from Employee\")\n",
    "for i in result:\n",
    "    print(i)"
   ]
  },
  {
   "cell_type": "code",
   "execution_count": 60,
   "id": "66a6f9a5",
   "metadata": {},
   "outputs": [
    {
     "name": "stdout",
     "output_type": "stream",
     "text": [
      "(1, 'John', 2000)\n",
      "(2, 'Rob', 5000)\n",
      "(3, 'Adam', 6000)\n"
     ]
    }
   ],
   "source": [
    "query = \"update Employee set salary=salary+500\"\n",
    "cursor.execute(query)\n",
    "result = cursor.execute(\"select * from Employee\")\n",
    "for i in result:\n",
    "    print(i)"
   ]
  },
  {
   "cell_type": "code",
   "execution_count": 62,
   "id": "51f2f3b2",
   "metadata": {},
   "outputs": [],
   "source": [
    "#obtaining total number of rows\n",
    "length=int\n",
    "cursor.execute(\"select count(*) from Employee\")\n",
    "for i in cursor:\n",
    "    length=i[0]"
   ]
  },
  {
   "cell_type": "code",
   "execution_count": null,
   "id": "b45a4b6e",
   "metadata": {},
   "outputs": [],
   "source": [
    "connection.close()"
   ]
  }
 ],
 "metadata": {
  "kernelspec": {
   "display_name": "Python 3 (ipykernel)",
   "language": "python",
   "name": "python3"
  },
  "language_info": {
   "codemirror_mode": {
    "name": "ipython",
    "version": 3
   },
   "file_extension": ".py",
   "mimetype": "text/x-python",
   "name": "python",
   "nbconvert_exporter": "python",
   "pygments_lexer": "ipython3",
   "version": "3.9.7"
  }
 },
 "nbformat": 4,
 "nbformat_minor": 5
}
