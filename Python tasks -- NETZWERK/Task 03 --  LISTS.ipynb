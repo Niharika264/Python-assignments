{
 "cells": [
  {
   "cell_type": "code",
   "execution_count": 3,
   "id": "bd7ae2de",
   "metadata": {},
   "outputs": [],
   "source": [
    "## TASK 3.1\n",
    "##built-in functions in list\n",
    "#  .count()\n",
    "l1 = [10,20,30,40,50,10]"
   ]
  },
  {
   "cell_type": "code",
   "execution_count": 4,
   "id": "a3b438eb",
   "metadata": {},
   "outputs": [
    {
     "data": {
      "text/plain": [
       "2"
      ]
     },
     "execution_count": 4,
     "metadata": {},
     "output_type": "execute_result"
    }
   ],
   "source": [
    "l1.count(10)"
   ]
  },
  {
   "cell_type": "code",
   "execution_count": 6,
   "id": "da147a1d",
   "metadata": {},
   "outputs": [],
   "source": [
    "# .clear()\n",
    "l2 = [1,2,[50,60],[89,90],100]"
   ]
  },
  {
   "cell_type": "code",
   "execution_count": 7,
   "id": "e56b0567",
   "metadata": {},
   "outputs": [],
   "source": [
    "l2[2].clear()"
   ]
  },
  {
   "cell_type": "code",
   "execution_count": 8,
   "id": "d36c2067",
   "metadata": {},
   "outputs": [
    {
     "data": {
      "text/plain": [
       "[1, 2, [], [89, 90], 100]"
      ]
     },
     "execution_count": 8,
     "metadata": {},
     "output_type": "execute_result"
    }
   ],
   "source": [
    "l2"
   ]
  },
  {
   "cell_type": "code",
   "execution_count": 11,
   "id": "c8f40a76",
   "metadata": {},
   "outputs": [],
   "source": [
    "# .reverse()\n",
    "l2[3].reverse()"
   ]
  },
  {
   "cell_type": "code",
   "execution_count": 12,
   "id": "f2700ad1",
   "metadata": {},
   "outputs": [
    {
     "name": "stdout",
     "output_type": "stream",
     "text": [
      "[1, 2, [], [90, 89], 100]\n"
     ]
    }
   ],
   "source": [
    " print(l2)"
   ]
  },
  {
   "cell_type": "code",
   "execution_count": 13,
   "id": "b4bb6e39",
   "metadata": {},
   "outputs": [],
   "source": [
    "# .sort()\n",
    "L3 = [1, 2, [100,10,1,0], [89, 90], 100]"
   ]
  },
  {
   "cell_type": "code",
   "execution_count": 14,
   "id": "aeec6a05",
   "metadata": {},
   "outputs": [],
   "source": [
    "L3[2].sort()"
   ]
  },
  {
   "cell_type": "code",
   "execution_count": 15,
   "id": "504ec552",
   "metadata": {},
   "outputs": [
    {
     "data": {
      "text/plain": [
       "[1, 2, [0, 1, 10, 100], [89, 90], 100]"
      ]
     },
     "execution_count": 15,
     "metadata": {},
     "output_type": "execute_result"
    }
   ],
   "source": [
    "L3"
   ]
  },
  {
   "cell_type": "code",
   "execution_count": 26,
   "id": "8f9b456d",
   "metadata": {},
   "outputs": [],
   "source": [
    "# .remove()\n",
    "L3.remove(100)"
   ]
  },
  {
   "cell_type": "code",
   "execution_count": 27,
   "id": "ffe3a37d",
   "metadata": {},
   "outputs": [
    {
     "data": {
      "text/plain": [
       "[1, [0, 1, 100], [89, 90]]"
      ]
     },
     "execution_count": 27,
     "metadata": {},
     "output_type": "execute_result"
    }
   ],
   "source": [
    "L3"
   ]
  },
  {
   "cell_type": "code",
   "execution_count": 18,
   "id": "c1831bb3",
   "metadata": {},
   "outputs": [],
   "source": [
    "L3[1].remove(10)"
   ]
  },
  {
   "cell_type": "code",
   "execution_count": 19,
   "id": "a02b862a",
   "metadata": {},
   "outputs": [
    {
     "data": {
      "text/plain": [
       "[1, [0, 1, 100], [89, 90], 100]"
      ]
     },
     "execution_count": 19,
     "metadata": {},
     "output_type": "execute_result"
    }
   ],
   "source": [
    "L3"
   ]
  },
  {
   "cell_type": "code",
   "execution_count": null,
   "id": "2957384d",
   "metadata": {},
   "outputs": [],
   "source": [
    "## TASK 3.2"
   ]
  },
  {
   "cell_type": "code",
   "execution_count": 28,
   "id": "feee427d",
   "metadata": {},
   "outputs": [],
   "source": [
    "list = [1,2,3,4,5,6,7,8,9,0]"
   ]
  },
  {
   "cell_type": "code",
   "execution_count": 29,
   "id": "1aab7ea6",
   "metadata": {},
   "outputs": [
    {
     "data": {
      "text/plain": [
       "[6, 7, 8, 9]"
      ]
     },
     "execution_count": 29,
     "metadata": {},
     "output_type": "execute_result"
    }
   ],
   "source": [
    "list[5:9]"
   ]
  },
  {
   "cell_type": "code",
   "execution_count": 31,
   "id": "eb35e78e",
   "metadata": {},
   "outputs": [],
   "source": [
    "## TASK 4\n",
    "l1 = [10, 20, [30, 40, [50, 60], 80], 90, 100]"
   ]
  },
  {
   "cell_type": "code",
   "execution_count": 40,
   "id": "a5641d19",
   "metadata": {},
   "outputs": [],
   "source": [
    "l1[2][2].insert(2,70)"
   ]
  },
  {
   "cell_type": "code",
   "execution_count": 41,
   "id": "58e7d182",
   "metadata": {},
   "outputs": [
    {
     "data": {
      "text/plain": [
       "[10, 20, [30, 40, [50, 60, 70], 80], 90, 100]"
      ]
     },
     "execution_count": 41,
     "metadata": {},
     "output_type": "execute_result"
    }
   ],
   "source": [
    "l1"
   ]
  },
  {
   "cell_type": "code",
   "execution_count": null,
   "id": "77d33a09",
   "metadata": {},
   "outputs": [],
   "source": [
    "l2 = [1,2,[3,4,5,6],9]"
   ]
  }
 ],
 "metadata": {
  "kernelspec": {
   "display_name": "Python 3",
   "language": "python",
   "name": "python3"
  },
  "language_info": {
   "codemirror_mode": {
    "name": "ipython",
    "version": 3
   },
   "file_extension": ".py",
   "mimetype": "text/x-python",
   "name": "python",
   "nbconvert_exporter": "python",
   "pygments_lexer": "ipython3",
   "version": "3.8.8"
  }
 },
 "nbformat": 4,
 "nbformat_minor": 5
}
