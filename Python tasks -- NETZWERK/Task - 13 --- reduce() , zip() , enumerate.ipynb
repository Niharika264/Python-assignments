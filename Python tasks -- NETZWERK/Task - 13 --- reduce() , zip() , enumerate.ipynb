{
 "cells": [
  {
   "cell_type": "code",
   "execution_count": 3,
   "id": "870abcb3",
   "metadata": {},
   "outputs": [
    {
     "name": "stdout",
     "output_type": "stream",
     "text": [
      "120\n"
     ]
    }
   ],
   "source": [
    "##Task10 : Go through\n",
    "\n",
    "'''''reduce() :- This method is used for computation problems\n",
    "                 It is imported from functools module\n",
    "                 It gives the final result of the iterable object which is passed\n",
    "                 It applies/maps the function on each element of the sequence....\n",
    "                 \n",
    "syntax:- reduce(function,sequence)\n",
    "function has two arguments/variables the first one stores each element that is being iterated and the second one stores the result of previous iteration'''\n",
    "                 \n",
    "import functools\n",
    "list1 = [1,2,3,4,5]\n",
    "result = functools.reduce((lambda x,y:x*y) , list1) # x-> value of each element traversed at each iteration\n",
    "                                                     # y-> stores result of previous iteration\n",
    "print(result)\n"
   ]
  },
  {
   "cell_type": "code",
   "execution_count": 8,
   "id": "85361d40",
   "metadata": {},
   "outputs": [
    {
     "name": "stdout",
     "output_type": "stream",
     "text": [
      "[('nisha', 1), ('neha', 2), ('deeksha', 3)]\n"
     ]
    }
   ],
   "source": [
    "''''zip() :- This function is used to combine/pack more than one iteratable objects.\n",
    "             It returns object of 'zip' type, which can be type-casted into list or iterate through for loop.\n",
    "             It maps elements in similar indices of the passed iterable sequences\n",
    "             It finally generates a list of tuples'''\n",
    "\n",
    "list1 = ['nisha','neha','deeksha']\n",
    "list2 = [1,2,3,4,5]\n",
    "\n",
    "zipped_object = list(zip(list1,list2))\n",
    "\n",
    "print(zipped_object)\n",
    "             \n",
    "             \n",
    "             "
   ]
  },
  {
   "cell_type": "code",
   "execution_count": 9,
   "id": "5e2aec63",
   "metadata": {},
   "outputs": [
    {
     "name": "stdout",
     "output_type": "stream",
     "text": [
      "[(100, 'nisha'), (101, 'apple'), (102, 'mango'), (103, 'guava')]\n",
      "[(0, 'g'), (1, 'r'), (2, 'e'), (3, 'e'), (4, 'k')]\n"
     ]
    }
   ],
   "source": [
    "''' enumerate() :- Whenever, iterable objects are used when we have to keep track the count of iterations then this function is used\n",
    "                   This method() adds a counter to the iterable and returns an object of enumerable type[which has the addresses of iteration count and each element traversed during that iteration]\n",
    "                   THis returned object can be type casted into a list of tuples or run through for loop\n",
    "                   \n",
    " syntax :- enumerate(iterable , start=0)\n",
    " \n",
    "          iterable :- object which supports the iteration\n",
    "          start :-  starting index value from which the counter is to be started , default size = 0 '''\n",
    "\n",
    "list1 = ['nisha','apple','mango','guava']\n",
    "list2 = 'greek'\n",
    "\n",
    "object1 = list(enumerate(list1,start = 100))\n",
    "object2 = list(enumerate(list2,start = 0))\n",
    "\n",
    "print(object1)\n",
    "print(object2)\n",
    "\n",
    "\n",
    "          \n",
    "          "
   ]
  },
  {
   "cell_type": "code",
   "execution_count": null,
   "id": "ccf641ca",
   "metadata": {},
   "outputs": [],
   "source": []
  }
 ],
 "metadata": {
  "kernelspec": {
   "display_name": "Python 3",
   "language": "python",
   "name": "python3"
  },
  "language_info": {
   "codemirror_mode": {
    "name": "ipython",
    "version": 3
   },
   "file_extension": ".py",
   "mimetype": "text/x-python",
   "name": "python",
   "nbconvert_exporter": "python",
   "pygments_lexer": "ipython3",
   "version": "3.8.8"
  }
 },
 "nbformat": 4,
 "nbformat_minor": 5
}
