{
 "cells": [
  {
   "cell_type": "code",
   "execution_count": 5,
   "id": "53eb6c67",
   "metadata": {},
   "outputs": [
    {
     "name": "stdout",
     "output_type": "stream",
     "text": [
      "1\n",
      "2\n",
      "4\n",
      "5\n",
      "7\n",
      "8\n"
     ]
    }
   ],
   "source": [
    "##Task 10.1 = what is the uasge of continue wiith an example.\n",
    "'''''continue :- It is a keyword in-built present in the python library.\n",
    "                 It is used to bring the execution to the begining of the loop.\n",
    "                 It skips/ignores particular iteration as mentioned in the function\n",
    "                 It ignores all the statement after the 'continue' keyword and brings the control to the begining of the loop'''\n",
    "# e.g., of continue keyword\n",
    "for item in range(0,10,1):\n",
    "    if(item % 3==0):\n",
    "        continue\n",
    "    print(item)"
   ]
  },
  {
   "cell_type": "code",
   "execution_count": 7,
   "id": "2aeff6ab",
   "metadata": {},
   "outputs": [
    {
     "name": "stdout",
     "output_type": "stream",
     "text": [
      "2\n",
      "4\n",
      "6\n"
     ]
    }
   ],
   "source": [
    "##Task 10.2 What is pass keyword, with example.\n",
    "'''''pass:- It is a keyword which is in-built in python library\n",
    "            It is used to prevent the error popping up when an empty code is used in loops,conditional statements,functions etc,.,\n",
    "'''\n",
    "## e.g., for pass keyword\n",
    "list1 = [1,2,3,4,5,6,7]\n",
    "for item in list1:\n",
    "    if(item % 2 == 0):\n",
    "        print(item)\n",
    "    else:\n",
    "        pass\n",
    "    "
   ]
  },
  {
   "cell_type": "code",
   "execution_count": 8,
   "id": "270528f3",
   "metadata": {},
   "outputs": [
    {
     "name": "stdout",
     "output_type": "stream",
     "text": [
      "1\n",
      "2\n",
      "3\n",
      "4\n",
      "5\n",
      "6\n",
      "7\n",
      "8\n",
      "9\n",
      "10\n"
     ]
    }
   ],
   "source": [
    "''''Task10\n",
    "using while loop print numbers from 10 to 1'''\n",
    "num = 1\n",
    "while(num<11):\n",
    "    print(num)\n",
    "    num += 1\n"
   ]
  },
  {
   "cell_type": "code",
   "execution_count": 9,
   "id": "0f9a36a5",
   "metadata": {},
   "outputs": [
    {
     "name": "stdout",
     "output_type": "stream",
     "text": [
      "1\n",
      "2\n",
      "3\n",
      "abc\n",
      "ghi\n"
     ]
    }
   ],
   "source": [
    "##try using for loop to loop over tuples,sets and dictionaries\n",
    "tup1 = (1,2,3,'abc','ghi')\n",
    "for item in tup1:\n",
    "    print(item)"
   ]
  },
  {
   "cell_type": "code",
   "execution_count": 10,
   "id": "d1cfe999",
   "metadata": {},
   "outputs": [
    {
     "name": "stdout",
     "output_type": "stream",
     "text": [
      "d\n",
      "1\n",
      "j\n",
      "a\n",
      "4\n",
      "5\n",
      "6\n"
     ]
    }
   ],
   "source": [
    "set1 = {1,1,1,4,5,6,'a','d','j'}\n",
    "for item in set1:\n",
    "    print(item)"
   ]
  },
  {
   "cell_type": "code",
   "execution_count": 53,
   "id": "1c280544",
   "metadata": {},
   "outputs": [],
   "source": [
    "child1 = {'name':'nisha','age':'21','native':'hassan'}\n",
    "child2 = {'name':'neha','age':'278','native':'california'}\n",
    "my_dict = {'child1':child1,\n",
    "            'child2':child2}"
   ]
  },
  {
   "cell_type": "code",
   "execution_count": 54,
   "id": "25ebb622",
   "metadata": {},
   "outputs": [
    {
     "data": {
      "text/plain": [
       "{'child1': {'name': 'nisha', 'age': '21', 'native': 'hassan'},\n",
       " 'child2': {'name': 'neha', 'age': '278', 'native': 'california'}}"
      ]
     },
     "execution_count": 54,
     "metadata": {},
     "output_type": "execute_result"
    }
   ],
   "source": [
    "my_dict"
   ]
  },
  {
   "cell_type": "code",
   "execution_count": 55,
   "id": "ba444851",
   "metadata": {},
   "outputs": [
    {
     "name": "stdout",
     "output_type": "stream",
     "text": [
      "name:nisha\n",
      "age:21\n",
      "native:hassan\n"
     ]
    }
   ],
   "source": [
    "for child1,i in child1.items():\n",
    "   print(str(child1)+\":\"+str(i))"
   ]
  },
  {
   "cell_type": "code",
   "execution_count": 56,
   "id": "585bbb89",
   "metadata": {},
   "outputs": [
    {
     "name": "stdout",
     "output_type": "stream",
     "text": [
      "name:neha\n",
      "age:278\n",
      "native:california\n"
     ]
    }
   ],
   "source": [
    "for child2,n in child2.items():\n",
    "    print(str(child2) + ':' + str(n))"
   ]
  },
  {
   "cell_type": "code",
   "execution_count": 57,
   "id": "c6a481ac",
   "metadata": {},
   "outputs": [
    {
     "name": "stdout",
     "output_type": "stream",
     "text": [
      "child1:{'name': 'nisha', 'age': '21', 'native': 'hassan'}\n",
      "child2:{'name': 'neha', 'age': '278', 'native': 'california'}\n"
     ]
    }
   ],
   "source": [
    "for k,n in my_dict.items():\n",
    "    print(k + ':' + str(n))"
   ]
  },
  {
   "cell_type": "code",
   "execution_count": 58,
   "id": "2b852e69",
   "metadata": {},
   "outputs": [],
   "source": [
    "dict1 = {'apple':4,'orange':3,'mango':10,'grapes':90}"
   ]
  },
  {
   "cell_type": "code",
   "execution_count": 59,
   "id": "f868b6a6",
   "metadata": {},
   "outputs": [
    {
     "name": "stdout",
     "output_type": "stream",
     "text": [
      "apple\n",
      "orange\n",
      "mango\n",
      "grapes\n"
     ]
    }
   ],
   "source": [
    "for i in dict1.keys():\n",
    "    print(i)"
   ]
  },
  {
   "cell_type": "code",
   "execution_count": 60,
   "id": "2526cee5",
   "metadata": {},
   "outputs": [
    {
     "name": "stdout",
     "output_type": "stream",
     "text": [
      "4\n",
      "3\n",
      "10\n",
      "90\n"
     ]
    }
   ],
   "source": [
    "for i in dict1.values():\n",
    "    print(i)"
   ]
  },
  {
   "cell_type": "code",
   "execution_count": 62,
   "id": "e4055b6d",
   "metadata": {},
   "outputs": [
    {
     "name": "stdout",
     "output_type": "stream",
     "text": [
      "apple:4\n",
      "orange:3\n",
      "mango:10\n",
      "grapes:90\n"
     ]
    }
   ],
   "source": [
    "for i,n in dict1.items():\n",
    "    print(i + \":\" + str(n))"
   ]
  },
  {
   "cell_type": "code",
   "execution_count": null,
   "id": "7b73c6aa",
   "metadata": {},
   "outputs": [],
   "source": []
  }
 ],
 "metadata": {
  "kernelspec": {
   "display_name": "Python 3",
   "language": "python",
   "name": "python3"
  },
  "language_info": {
   "codemirror_mode": {
    "name": "ipython",
    "version": 3
   },
   "file_extension": ".py",
   "mimetype": "text/x-python",
   "name": "python",
   "nbconvert_exporter": "python",
   "pygments_lexer": "ipython3",
   "version": "3.8.8"
  }
 },
 "nbformat": 4,
 "nbformat_minor": 5
}
