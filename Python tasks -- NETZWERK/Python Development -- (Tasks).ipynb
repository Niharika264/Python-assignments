{
 "cells": [
  {
   "cell_type": "markdown",
   "id": "25cb2eab-7d79-49e1-91ce-e407641720ee",
   "metadata": {
    "tags": []
   },
   "source": [
    "# Create a dictionary with EmpNo as key and EmpName as value with 5 key pair values and check if empNo 3 then print manager and nested if check empname = \"yy'' then print Manager else emp name\n"
   ]
  },
  {
   "cell_type": "code",
   "execution_count": 4,
   "id": "274cdd01",
   "metadata": {
    "tags": []
   },
   "outputs": [
    {
     "name": "stdin",
     "output_type": "stream",
     "text": [
      " 2\n"
     ]
    },
    {
     "name": "stdout",
     "output_type": "stream",
     "text": [
      "Tony\n"
     ]
    }
   ],
   "source": [
    "dict1 = dict()\n",
    "dict1 = {1:'John',2:'Tony',3:'Rohan',4:'Reshma',5:'Kourtney'}\n",
    "EmpNo = int(input())\n",
    "if(EmpNo==3):\n",
    "    print('manager')\n",
    "    if(dict1[EmpNo] == 'Rohan'):\n",
    "        print('Manager')\n",
    "else:\n",
    "    print(dict1[EmpNo])"
   ]
  },
  {
   "cell_type": "code",
   "execution_count": 5,
   "id": "fe7ff366",
   "metadata": {},
   "outputs": [],
   "source": [
    "dict1 = dict([(10,'John'),(20,'Tony'),(30,'Rohan'),(40,'Reshma'),(50,'Kourtney')])"
   ]
  },
  {
   "cell_type": "markdown",
   "id": "d1ec956d",
   "metadata": {},
   "source": [
    "# Demonstrating how  indexing doesn't work for dictionaries\n"
   ]
  },
  {
   "cell_type": "code",
   "execution_count": 6,
   "id": "b3f30174",
   "metadata": {},
   "outputs": [
    {
     "ename": "KeyError",
     "evalue": "0",
     "output_type": "error",
     "traceback": [
      "\u001b[1;31m---------------------------------------------------------------------------\u001b[0m",
      "\u001b[1;31mKeyError\u001b[0m                                  Traceback (most recent call last)",
      "\u001b[1;32m~\\AppData\\Local\\Temp/ipykernel_12812/715492027.py\u001b[0m in \u001b[0;36m<module>\u001b[1;34m\u001b[0m\n\u001b[1;32m----> 1\u001b[1;33m \u001b[0mdict1\u001b[0m\u001b[1;33m[\u001b[0m\u001b[1;36m0\u001b[0m\u001b[1;33m]\u001b[0m\u001b[1;33m\u001b[0m\u001b[1;33m\u001b[0m\u001b[0m\n\u001b[0m",
      "\u001b[1;31mKeyError\u001b[0m: 0"
     ]
    }
   ],
   "source": [
    "dict1[0]"
   ]
  },
  {
   "cell_type": "code",
   "execution_count": 7,
   "id": "4feddda2",
   "metadata": {},
   "outputs": [
    {
     "name": "stdout",
     "output_type": "stream",
     "text": [
      "sohan\n",
      "1\n",
      "2\n",
      "3\n",
      "4\n",
      "10\n",
      "amith\n",
      "nisha\n"
     ]
    }
   ],
   "source": [
    "t = set(['amith','nisha',1,10,'sohan',2,3,4])\n",
    "for i in t:\n",
    "    print(i)\n"
   ]
  },
  {
   "cell_type": "markdown",
   "id": "5e97f149",
   "metadata": {
    "tags": []
   },
   "source": [
    "# Printing pyramid pattern"
   ]
  },
  {
   "cell_type": "code",
   "execution_count": 8,
   "id": "0c976418-d2e1-46f3-a400-c01d704ccaf5",
   "metadata": {},
   "outputs": [
    {
     "name": "stdout",
     "output_type": "stream",
     "text": [
      "     @\n",
      "    @ @\n",
      "   @ @ @\n",
      "  @ @ @ @\n",
      " @ @ @ @ @\n",
      "  @ @ @ @\n",
      "   @ @ @\n",
      "    @ @\n",
      "     @\n"
     ]
    }
   ],
   "source": [
    "n = 5\n",
    "for i in range(1,n+1):\n",
    "    j=n-i\n",
    "    while(j>0):\n",
    "        print(end=\" \")\n",
    "        j-=1\n",
    "    print(i*\" @\",end=\"\\n\")\n",
    "for k in range(1,n):\n",
    "    l = n-k\n",
    "    while(k>0):\n",
    "        print(end=\" \")\n",
    "        k-=1\n",
    "    print(l*\" @\",end=\"\\n\")\n",
    "    "
   ]
  },
  {
   "cell_type": "code",
   "execution_count": 9,
   "id": "ba151a4b-8678-44e1-a2c7-49e35dabc6b2",
   "metadata": {},
   "outputs": [],
   "source": [
    "import studentdetails"
   ]
  },
  {
   "cell_type": "code",
   "execution_count": 10,
   "id": "1a3946cc-7fac-44d1-8e3e-b9ee913fee8d",
   "metadata": {},
   "outputs": [
    {
     "ename": "NameError",
     "evalue": "name 'student' is not defined",
     "output_type": "error",
     "traceback": [
      "\u001b[1;31m---------------------------------------------------------------------------\u001b[0m",
      "\u001b[1;31mNameError\u001b[0m                                 Traceback (most recent call last)",
      "\u001b[1;32m~\\AppData\\Local\\Temp/ipykernel_12812/3177038004.py\u001b[0m in \u001b[0;36m<module>\u001b[1;34m\u001b[0m\n\u001b[1;32m----> 1\u001b[1;33m \u001b[0mstudent\u001b[0m\u001b[1;33m(\u001b[0m\u001b[1;34m\"mysuru\"\u001b[0m\u001b[1;33m,\u001b[0m\u001b[1;34m\"cooking\"\u001b[0m\u001b[1;33m)\u001b[0m\u001b[1;33m\u001b[0m\u001b[1;33m\u001b[0m\u001b[0m\n\u001b[0m",
      "\u001b[1;31mNameError\u001b[0m: name 'student' is not defined"
     ]
    }
   ],
   "source": [
    "student(\"mysuru\",\"cooking\")"
   ]
  },
  {
   "cell_type": "markdown",
   "id": "b2f77395",
   "metadata": {},
   "source": [
    "# Create a function with multiple keyword args and print them"
   ]
  },
  {
   "cell_type": "code",
   "execution_count": 11,
   "id": "0ebfb586",
   "metadata": {},
   "outputs": [],
   "source": [
    "def Person(**kwargs):\n",
    "    list1 = []\n",
    "    for x in kwargs.values():\n",
    "        list1.append(x)\n",
    "    print(\"Hi everyone!\",\"I\\'m {0} {1}\".format(list1[0],list1[1]),sep='\\n')\n",
    "    \n",
    "    "
   ]
  },
  {
   "cell_type": "code",
   "execution_count": 12,
   "id": "35e639ff",
   "metadata": {},
   "outputs": [
    {
     "name": "stdout",
     "output_type": "stream",
     "text": [
      "Hi everyone!\n",
      "I'm Niharika Muralidhara\n"
     ]
    }
   ],
   "source": [
    "Person(firstname='Niharika',lastname='Muralidhara')"
   ]
  },
  {
   "cell_type": "markdown",
   "id": "1d93309b",
   "metadata": {
    "tags": []
   },
   "source": [
    "# except the ValueError and print own statement"
   ]
  },
  {
   "cell_type": "code",
   "execution_count": 13,
   "id": "8518b188",
   "metadata": {},
   "outputs": [],
   "source": [
    "def addition():\n",
    "    try:\n",
    "        a=int(input(\"Enter a:\"))\n",
    "        b=int(input(\"Enter b:\"))\n",
    "        print(\"The result is={}\".format(a+b))\n",
    "    except ValueError:\n",
    "        print(\"TO PERFORM ADDITION PLEASE ENTER A NUMBER NOT STRING\")\n",
    "    else:\n",
    "        print(\"Task Completed\")"
   ]
  },
  {
   "cell_type": "code",
   "execution_count": 14,
   "id": "30cdc6c5",
   "metadata": {},
   "outputs": [
    {
     "name": "stdin",
     "output_type": "stream",
     "text": [
      "Enter a: 12\n",
      "Enter b: 34\n"
     ]
    },
    {
     "name": "stdout",
     "output_type": "stream",
     "text": [
      "The result is=46\n",
      "Task Completed\n"
     ]
    }
   ],
   "source": [
    "addition()"
   ]
  },
  {
   "cell_type": "code",
   "execution_count": 15,
   "id": "d639b577",
   "metadata": {},
   "outputs": [
    {
     "name": "stdin",
     "output_type": "stream",
     "text": [
      "Enter a: 12\n",
      "Enter b: ert\n"
     ]
    },
    {
     "name": "stdout",
     "output_type": "stream",
     "text": [
      "TO PERFORM ADDITION PLEASE ENTER A NUMBER NOT STRING\n"
     ]
    }
   ],
   "source": [
    "addition()"
   ]
  },
  {
   "cell_type": "markdown",
   "id": "b1c129b8-9129-421c-a990-c10a0853b2a1",
   "metadata": {
    "tags": []
   },
   "source": [
    "# create a class employee with name and dept as parameters and print them using object"
   ]
  },
  {
   "cell_type": "code",
   "execution_count": 16,
   "id": "1f5ed146",
   "metadata": {},
   "outputs": [],
   "source": [
    "class Employee:\n",
    "    gender = 'Female'\n",
    "    def __init__(self,n,d):\n",
    "        self.name=n\n",
    "        self.dept=d\n",
    "    def display(self):\n",
    "        print(\"Hi I'm {} from {} department and my gender is {}\".format(self.name,self.dept,self.gender))"
   ]
  },
  {
   "cell_type": "code",
   "execution_count": 17,
   "id": "374e574c",
   "metadata": {},
   "outputs": [
    {
     "name": "stdout",
     "output_type": "stream",
     "text": [
      "Hi I'm niharika from IS&E department and my gender is Female\n"
     ]
    }
   ],
   "source": [
    "e = Employee(\"niharika\",\"IS&E\")\n",
    "e.display()"
   ]
  },
  {
   "cell_type": "markdown",
   "id": "a5fc9a04",
   "metadata": {},
   "source": [
    "# create an example for inheritance and polymorphism one each"
   ]
  },
  {
   "cell_type": "markdown",
   "id": "9c3d1cc2",
   "metadata": {},
   "source": [
    "# example for inheritance"
   ]
  },
  {
   "cell_type": "code",
   "execution_count": 18,
   "id": "05cea2fa-7997-462c-9f92-1bebd15fb0d6",
   "metadata": {},
   "outputs": [],
   "source": [
    "class Polygon(object):\n",
    "    def __init__(self,sides,colour):\n",
    "        self.sides=sides\n",
    "        self.colour=colour\n",
    "    def characters(self):\n",
    "        print(\"I'm {} sided Polygon filled with {} colour\".format(self.sides,self.colour))"
   ]
  },
  {
   "cell_type": "code",
   "execution_count": 19,
   "id": "a9a6175b",
   "metadata": {},
   "outputs": [],
   "source": [
    "class Rectangle(Polygon):\n",
    "    l = int\n",
    "    b = int\n",
    "    def __init__(self,sides,colour):\n",
    "        Polygon.__init__(self,sides,colour)\n",
    "    def get(self):\n",
    "        self.l = int(input(\"Enter the length:\"))\n",
    "        self.b = int(input(\"Enter the breadth:\"))\n",
    "    def area(self):\n",
    "        Polygon.characters(self)\n",
    "        print(\"The area = {}sq.cms\".format(self.l*self.b))\n",
    "        \n",
    "class Square(Polygon):\n",
    "    l = int\n",
    "    def __init__(self,sides,colour):\n",
    "        Polygon.__init__(self,sides,colour)\n",
    "    def get(self):\n",
    "        self.l = int(input(\"Enter the length:\"))\n",
    "    def area(self):\n",
    "        Polygon.characters(self)\n",
    "        print(\"The area = {}sq.cms\".format(self.l*self.l))"
   ]
  },
  {
   "cell_type": "code",
   "execution_count": 20,
   "id": "971facf4",
   "metadata": {},
   "outputs": [
    {
     "name": "stdin",
     "output_type": "stream",
     "text": [
      "Enter the length: 12\n",
      "Enter the breadth: 34\n"
     ]
    },
    {
     "name": "stdout",
     "output_type": "stream",
     "text": [
      "I'm 4 sided Polygon filled with purple colour\n",
      "The area = 408sq.cms\n"
     ]
    },
    {
     "name": "stdin",
     "output_type": "stream",
     "text": [
      "Enter the length: 12\n"
     ]
    },
    {
     "name": "stdout",
     "output_type": "stream",
     "text": [
      "I'm 4 sided Polygon filled with green colour\n",
      "The area = 144sq.cms\n"
     ]
    }
   ],
   "source": [
    "r = Rectangle(4,\"purple\")\n",
    "r.get()\n",
    "r.area()\n",
    "\n",
    "s = Square(4,\"green\")\n",
    "s.get()\n",
    "s.area()"
   ]
  },
  {
   "cell_type": "markdown",
   "id": "39039b65",
   "metadata": {},
   "source": [
    "# example for polymorphism"
   ]
  },
  {
   "cell_type": "code",
   "execution_count": 30,
   "id": "151b488c",
   "metadata": {},
   "outputs": [],
   "source": [
    "class Calculator(object):\n",
    "    def result(self):\n",
    "        print(\"The result function displays final result of arithmetic operation\",end='\\n')\n",
    "        "
   ]
  },
  {
   "cell_type": "code",
   "execution_count": 31,
   "id": "bf7b0d22",
   "metadata": {},
   "outputs": [],
   "source": [
    "class Add(Calculator):\n",
    "    # since no constructor in child class whenever it is instantiated it will automatically invoke\n",
    "    #__init__() of parent class\n",
    "    # overloading the same result() in parent class to showcase polymorphism\n",
    "    def result(self,n1,n2):\n",
    "        print(n1 + n2)\n",
    "        \n",
    "class Sub(Calculator):\n",
    "    # giving different forms to same result() function in parent class\n",
    "    def result(self,n1,n2):\n",
    "        print(n1-n2)\n",
    "        \n",
    "class Increment(Calculator):\n",
    "    # giving different forms to same result() function in parent class\n",
    "    def result(self,n1,n2):\n",
    "        n1+=1\n",
    "        n2+=1\n",
    "        print(n1,n2,end=\"\\n\")\n",
    "        "
   ]
  },
  {
   "cell_type": "code",
   "execution_count": 32,
   "id": "f593dfd6-093d-4235-a1b4-5ffdfc81e20d",
   "metadata": {},
   "outputs": [
    {
     "name": "stdout",
     "output_type": "stream",
     "text": [
      "The result function displays final result of arithmetic operation\n",
      "690\n",
      "110\n",
      "1001 2001\n"
     ]
    }
   ],
   "source": [
    "# common method to work on all different objects\n",
    "def operator(*args):\n",
    "    if len(args)==1:\n",
    "        args[0].result()\n",
    "    else:\n",
    "        args[0].result(args[1],args[2])\n",
    "    \n",
    "# creating different objects on which operations are performed\n",
    "main = Calculator()\n",
    "a = Add()\n",
    "s = Sub()\n",
    "i = Increment()\n",
    "\n",
    "# calling commom interface\n",
    "operator(main)\n",
    "operator(a,100,590)\n",
    "operator(s,199,89)\n",
    "operator(i , 1000,2000)\n"
   ]
  },
  {
   "cell_type": "markdown",
   "id": "d5244921",
   "metadata": {},
   "source": [
    "# Give an example of Negation, Shorthand with letter and Range using Regular exp "
   ]
  },
  {
   "cell_type": "code",
   "execution_count": 2,
   "id": "0ca01073-87d5-4d4c-a835-d27caa1650a1",
   "metadata": {},
   "outputs": [],
   "source": [
    "import re"
   ]
  },
  {
   "cell_type": "code",
   "execution_count": 113,
   "id": "e64d0fc5-bd97-4fc8-8397-5c1f97977279",
   "metadata": {},
   "outputs": [],
   "source": [
    "s = \"Niharika and my USN is 190773\""
   ]
  },
  {
   "cell_type": "code",
   "execution_count": 124,
   "id": "3fd9a01b",
   "metadata": {},
   "outputs": [
    {
     "name": "stdout",
     "output_type": "stream",
     "text": [
      "<re.Match object; span=(0, 16), match='Niharika and my '>\n"
     ]
    }
   ],
   "source": [
    "match = re.search(r'[^U]*',s)\n",
    "print(match)"
   ]
  },
  {
   "cell_type": "code",
   "execution_count": 94,
   "id": "7c9c339c",
   "metadata": {},
   "outputs": [
    {
     "name": "stdout",
     "output_type": "stream",
     "text": [
      "<re.Match object; span=(0, 1), match='N'>\n"
     ]
    }
   ],
   "source": [
    "print(re.search(r'[^a-z]+',s))"
   ]
  },
  {
   "cell_type": "code",
   "execution_count": 114,
   "id": "8396e4fe",
   "metadata": {},
   "outputs": [
    {
     "name": "stdout",
     "output_type": "stream",
     "text": [
      "<re.Match object; span=(1, 8), match='iharika'>\n"
     ]
    }
   ],
   "source": [
    "print(re.search(r'i\\w+',s))"
   ]
  },
  {
   "cell_type": "code",
   "execution_count": 140,
   "id": "15ae6703",
   "metadata": {},
   "outputs": [
    {
     "name": "stdout",
     "output_type": "stream",
     "text": [
      "<re.Match object; span=(23, 27), match='1907'>\n"
     ]
    }
   ],
   "source": [
    "print(re.search(r'[\\d]{1,4}',s))"
   ]
  },
  {
   "cell_type": "code",
   "execution_count": null,
   "id": "b6ddded8",
   "metadata": {},
   "outputs": [],
   "source": []
  }
 ],
 "metadata": {
  "kernelspec": {
   "display_name": "Python 3 (ipykernel)",
   "language": "python",
   "name": "python3"
  },
  "language_info": {
   "codemirror_mode": {
    "name": "ipython",
    "version": 3
   },
   "file_extension": ".py",
   "mimetype": "text/x-python",
   "name": "python",
   "nbconvert_exporter": "python",
   "pygments_lexer": "ipython3",
   "version": "3.9.7"
  }
 },
 "nbformat": 4,
 "nbformat_minor": 5
}
